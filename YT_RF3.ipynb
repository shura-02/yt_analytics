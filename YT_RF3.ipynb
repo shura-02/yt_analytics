{
  "nbformat": 4,
  "nbformat_minor": 0,
  "metadata": {
    "colab": {
      "provenance": []
    },
    "kernelspec": {
      "name": "python3",
      "display_name": "Python 3"
    },
    "language_info": {
      "name": "python"
    }
  },
  "cells": [
    {
      "cell_type": "code",
      "execution_count": null,
      "metadata": {
        "id": "z5JuWw6_DDuh"
      },
      "outputs": [],
      "source": [
        "pip install streamlit"
      ]
    },
    {
      "cell_type": "code",
      "source": [
        "import streamlit as st\n",
        "import pandas as pd\n",
        "import numpy as np\n",
        "import matplotlib.pyplot as plt\n",
        "from sklearn.ensemble import RandomForestRegressor\n",
        "from googleapiclient.discovery import build"
      ],
      "metadata": {
        "id": "y6dshnVbDy5S"
      },
      "execution_count": null,
      "outputs": []
    },
    {
      "cell_type": "code",
      "source": [
        "# Use the YouTube Data API to get the channel statistics\n",
        "def get_channel_statistics(channel_id, api_key):\n",
        "    youtube = build('youtube', 'v3', developerKey=api_key)\n",
        "    request = youtube.channels().list(part='statistics', id=channel_id)\n",
        "    response = request.execute()\n",
        "    return response['items'][0]['statistics']"
      ],
      "metadata": {
        "id": "SInMiq_ND2ax"
      },
      "execution_count": null,
      "outputs": []
    },
    {
      "cell_type": "code",
      "source": [
        "#test code\n",
        "channel_ids = ['UCvpfclapgcuJo0M_x65pfRw', #beebom\n",
        "               'UCO2WJZKQoDW4Te6NHx4KfTg', #mrWTB\n",
        "               'UCOhHO2ICt0ti9KAh-QHvttQ', #techguruji\n",
        "               'UCsTcErHg8oDvUnTzoqsYeNw', #geekyranjit\n",
        "               'UCMiJRAwDNSNzuYeN2uWa0pA'] #unboxtherapy"
      ],
      "metadata": {
        "id": "OpRZbvRqGyrM"
      },
      "execution_count": null,
      "outputs": []
    },
    {
      "cell_type": "code",
      "source": [
        "# Get a list of channel IDs from a CSV file\n",
        "channel_ids = pd.read_csv(\"channel_ids.csv\")['Channel ID'].tolist()"
      ],
      "metadata": {
        "id": "H9FIaYkxEvCk"
      },
      "execution_count": null,
      "outputs": []
    },
    {
      "cell_type": "code",
      "source": [
        "# Use the first channel ID as the default value\n",
        "default_channel_id = channel_ids[0]"
      ],
      "metadata": {
        "id": "rM22VFcHEtg4"
      },
      "execution_count": null,
      "outputs": []
    },
    {
      "cell_type": "code",
      "source": [
        "# Train a Random Forest regression model on the channel statistics\n",
        "model = RandomForestRegressor(n_estimators=100)"
      ],
      "metadata": {
        "id": "RC4CaR20EtSe"
      },
      "execution_count": null,
      "outputs": []
    },
    {
      "cell_type": "code",
      "source": [
        "st.title(\"YouTube Channel Publication Predictor\")"
      ],
      "metadata": {
        "colab": {
          "base_uri": "https://localhost:8080/"
        },
        "id": "Km_Crj96EtDv",
        "outputId": "ce429842-daf3-4d79-cd79-2ccd15ead075"
      },
      "execution_count": null,
      "outputs": [
        {
          "output_type": "stream",
          "name": "stderr",
          "text": [
            "WARNING:root:\n",
            "  \u001b[33m\u001b[1mWarning:\u001b[0m to view this Streamlit app on a browser, run it with the following\n",
            "  command:\n",
            "\n",
            "    streamlit run /usr/local/lib/python3.8/dist-packages/ipykernel_launcher.py [ARGUMENTS]\n",
            "2023-02-13 18:49:17.462 \n",
            "  \u001b[33m\u001b[1mWarning:\u001b[0m to view this Streamlit app on a browser, run it with the following\n",
            "  command:\n",
            "\n",
            "    streamlit run /usr/local/lib/python3.8/dist-packages/ipykernel_launcher.py [ARGUMENTS]\n"
          ]
        },
        {
          "output_type": "execute_result",
          "data": {
            "text/plain": [
              "DeltaGenerator(_root_container=0, _provided_cursor=None, _parent=None, _block_type=None, _form_data=None)"
            ]
          },
          "metadata": {},
          "execution_count": 8
        }
      ]
    },
    {
      "cell_type": "code",
      "source": [
        "# Get the API key from the user\n",
        "api_key = st.text_input(\"Enter your YouTube Data API key:\", \"\")"
      ],
      "metadata": {
        "id": "qAGceshbEihQ"
      },
      "execution_count": null,
      "outputs": []
    },
    {
      "cell_type": "code",
      "source": [
        "# Create a dropdown to select the channel ID\n",
        "selected_channel_id = st.selectbox(\"Select a channel ID:\", channel_ids, index=0)"
      ],
      "metadata": {
        "id": "CZrOlywmGbld"
      },
      "execution_count": null,
      "outputs": []
    },
    {
      "cell_type": "code",
      "source": [
        "if st.button(\"Get Channel Statistics\"):\n",
        "    statistics = get_channel_statistics(selected_channel_id, api_key)\n",
        "    df = pd.DataFrame.from_dict(statistics, orient='index', columns=['Value'])\n",
        "    df = df.reset_index().rename(columns={'index': 'Statistic'})\n",
        "    df['Value'] = df['Value'].astype(int)\n",
        "    prediction = model.predict(df)\n",
        "    st.write(\"The model predicts the next publication will be in\", int(prediction), \"days\")"
      ],
      "metadata": {
        "id": "giyEIzk7GbZk"
      },
      "execution_count": null,
      "outputs": []
    },
    {
      "cell_type": "code",
      "source": [
        "st.write(\"Note: This prediction is based on the current channel statistics and may not reflect the actual publication date.\")"
      ],
      "metadata": {
        "id": "f_ZomwIiGbLm"
      },
      "execution_count": null,
      "outputs": []
    },
    {
      "cell_type": "code",
      "source": [
        "streamlit run /usr/local/lib/python3.8/dist-packages/ipykernel_launcher.py"
      ],
      "metadata": {
        "colab": {
          "base_uri": "https://localhost:8080/",
          "height": 130
        },
        "id": "eJaTNUOdGapv",
        "outputId": "2ff455dc-66a8-4f78-9492-74d5a02e13ea"
      },
      "execution_count": null,
      "outputs": [
        {
          "output_type": "error",
          "ename": "SyntaxError",
          "evalue": "ignored",
          "traceback": [
            "\u001b[0;36m  File \u001b[0;32m\"<ipython-input-13-81d8481abc4d>\"\u001b[0;36m, line \u001b[0;32m1\u001b[0m\n\u001b[0;31m    streamlit run /usr/local/lib/python3.8/dist-packages/ipykernel_launcher.py\u001b[0m\n\u001b[0m              ^\u001b[0m\n\u001b[0;31mSyntaxError\u001b[0m\u001b[0;31m:\u001b[0m invalid syntax\n"
          ]
        }
      ]
    },
    {
      "cell_type": "code",
      "source": [],
      "metadata": {
        "id": "5OlJHHJ1GZjY"
      },
      "execution_count": null,
      "outputs": []
    },
    {
      "cell_type": "code",
      "source": [],
      "metadata": {
        "id": "hXs6lyzTGY6o"
      },
      "execution_count": null,
      "outputs": []
    },
    {
      "cell_type": "code",
      "source": [],
      "metadata": {
        "id": "uXw_DnbcGYnB"
      },
      "execution_count": null,
      "outputs": []
    }
  ]
}